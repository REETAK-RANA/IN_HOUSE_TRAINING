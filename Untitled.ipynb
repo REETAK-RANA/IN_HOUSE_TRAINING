{
 "cells": [
  {
   "cell_type": "markdown",
   "id": "26dda887-5098-4e8a-98b8-092717d72ab0",
   "metadata": {},
   "source": [
    "### 1. Write a code to Create a tuple with elemnets 100 ,200 and 300 ."
   ]
  },
  {
   "cell_type": "code",
   "execution_count": 1,
   "id": "f190617f-1b40-4853-adaf-969efa27e23c",
   "metadata": {},
   "outputs": [
    {
     "name": "stdout",
     "output_type": "stream",
     "text": [
      "(100, 200, 300)\n"
     ]
    }
   ],
   "source": [
    "x=(100,200,300)\n",
    "print(x)"
   ]
  },
  {
   "cell_type": "markdown",
   "id": "a14137dc-66dd-4cef-9045-da631fe9473a",
   "metadata": {},
   "source": [
    "### 2.  Write a code to Access the second last element of a tuple ."
   ]
  },
  {
   "cell_type": "code",
   "execution_count": 2,
   "id": "da694550-7ff1-4d5e-9ef8-4df3fa7bbaeb",
   "metadata": {},
   "outputs": [
    {
     "name": "stdout",
     "output_type": "stream",
     "text": [
      "blue\n"
     ]
    }
   ],
   "source": [
    "colors = ('red', 'green', 'blue', 'yellow')\n",
    "second_to_last = colors[-2]\n",
    "print(second_to_last)\n"
   ]
  },
  {
   "cell_type": "markdown",
   "id": "216e94bc-1514-490c-8252-40b1ab03941e",
   "metadata": {},
   "source": [
    "### 3. Write a code to  Find the Minimum Number in a Tuple ."
   ]
  },
  {
   "cell_type": "code",
   "execution_count": 3,
   "id": "3d610793-2aef-4c13-b162-a03a4e3b540f",
   "metadata": {},
   "outputs": [
    {
     "name": "stdout",
     "output_type": "stream",
     "text": [
      "5\n"
     ]
    }
   ],
   "source": [
    "numbers = (10, 20, 5, 15)\n",
    "min_number = min(numbers)\n",
    "print(min_number)"
   ]
  },
  {
   "cell_type": "markdown",
   "id": "b24250ab-9a85-4d5a-a438-dfdd4fd38eff",
   "metadata": {},
   "source": [
    "### 4. Write a code to Find the Index of an Element in a Tuple ."
   ]
  },
  {
   "cell_type": "code",
   "execution_count": 4,
   "id": "cd39d396-26be-4d43-a7a6-e083cded800c",
   "metadata": {},
   "outputs": [
    {
     "name": "stdout",
     "output_type": "stream",
     "text": [
      "1\n"
     ]
    }
   ],
   "source": [
    "animals = ('dog', 'cat', 'rabbit')\n",
    "index = animals.index('cat')\n",
    "print(index)"
   ]
  },
  {
   "cell_type": "markdown",
   "id": "b593aebc-2673-4d9d-845e-dc0b70ac9379",
   "metadata": {},
   "source": [
    "### 5. Write a code to Create a Tuple cantaining three different fruits and Check for \"kiwi\" ."
   ]
  },
  {
   "cell_type": "code",
   "execution_count": 5,
   "id": "9f5deec6-1a08-4fd3-ae5d-a1c54783bf0e",
   "metadata": {},
   "outputs": [
    {
     "name": "stdout",
     "output_type": "stream",
     "text": [
      "No, 'kiwi' is not in the tuple.\n"
     ]
    }
   ],
   "source": [
    "fruits = ('apple', 'banana', 'orange')\n",
    "if 'kiwi' in fruits:\n",
    "    print(\"Yes, 'kiwi' is in the tuple.\")\n",
    "else:\n",
    "    print(\"No, 'kiwi' is not in the tuple.\")"
   ]
  },
  {
   "cell_type": "markdown",
   "id": "2b90280a-41a5-4e02-816c-c6b3ac9414f4",
   "metadata": {},
   "source": [
    "### 6. Write a code to Create a Set of elements and Print It ."
   ]
  },
  {
   "cell_type": "code",
   "execution_count": 6,
   "id": "ba06292e-c530-4000-949f-f06374a845f5",
   "metadata": {},
   "outputs": [
    {
     "name": "stdout",
     "output_type": "stream",
     "text": [
      "{'b', 'c', 'a'}\n"
     ]
    }
   ],
   "source": [
    "my_set = {'a', 'b', 'c'}\n",
    "print(my_set)"
   ]
  },
  {
   "cell_type": "markdown",
   "id": "8e591196-ec63-423e-b6b7-7c03e97bf27c",
   "metadata": {},
   "source": [
    "### 7. Write a code to Create a set of elements and Clear All Elements from a Set .\n"
   ]
  },
  {
   "cell_type": "code",
   "execution_count": 7,
   "id": "c61e7615-c4f9-4bcd-b771-baeb9c886d0d",
   "metadata": {},
   "outputs": [
    {
     "name": "stdout",
     "output_type": "stream",
     "text": [
      "set()\n"
     ]
    }
   ],
   "source": [
    "numbers = {1, 2, 3, 4, 5}\n",
    "numbers.clear()\n",
    "print(numbers)"
   ]
  },
  {
   "cell_type": "markdown",
   "id": "1805c61f-c83a-42b3-a41e-3780e71de5f0",
   "metadata": {},
   "source": [
    "### 8. Write a code to Create an set of an elements and Remove an Element from a Set ."
   ]
  },
  {
   "cell_type": "code",
   "execution_count": 8,
   "id": "fbcf7e57-03ae-4f76-98cc-74410d82219e",
   "metadata": {},
   "outputs": [
    {
     "name": "stdout",
     "output_type": "stream",
     "text": [
      "{1, 2, 3}\n"
     ]
    }
   ],
   "source": [
    "numbers = {1, 2, 3, 4}\n",
    "numbers.remove(4)\n",
    "print(numbers)"
   ]
  },
  {
   "cell_type": "markdown",
   "id": "0047031e-2d7c-4388-a9c3-23159f13a5f7",
   "metadata": {},
   "source": [
    "### 9. write a code to Find the Union of Two Sets ."
   ]
  },
  {
   "cell_type": "code",
   "execution_count": 9,
   "id": "c0685ed1-9979-4a03-b9ad-af2d4a7d1185",
   "metadata": {},
   "outputs": [
    {
     "name": "stdout",
     "output_type": "stream",
     "text": [
      "{1, 2, 3, 4, 5}\n"
     ]
    }
   ],
   "source": [
    "set1 = {1, 2, 3}\n",
    "set2 = {3, 4, 5}\n",
    "union_set = set1.union(set2)\n",
    "print(union_set)"
   ]
  },
  {
   "cell_type": "markdown",
   "id": "4c92ebb0-777f-408b-bd2f-ac17b801d701",
   "metadata": {},
   "source": [
    "### 10. Write a code to Find the Intersection of Two Sets ."
   ]
  },
  {
   "cell_type": "code",
   "execution_count": 10,
   "id": "40d4b8ca-9876-498f-80b4-2397ce66f05c",
   "metadata": {},
   "outputs": [
    {
     "name": "stdout",
     "output_type": "stream",
     "text": [
      "{2, 3}\n"
     ]
    }
   ],
   "source": [
    "set1 = {1, 2, 3}\n",
    "set2 = {2, 3, 4}\n",
    "intersection_set = set1.intersection(set2)\n",
    "print(intersection_set)"
   ]
  },
  {
   "cell_type": "markdown",
   "id": "2ca62720-4c52-4065-967e-44d1aa2d1474",
   "metadata": {},
   "source": [
    "### 11. Write a code to Create a Dictionary and Print It ."
   ]
  },
  {
   "cell_type": "code",
   "execution_count": 11,
   "id": "52d4fd2d-4fe4-439c-8b74-aa757e8a97fe",
   "metadata": {},
   "outputs": [
    {
     "name": "stdout",
     "output_type": "stream",
     "text": [
      "{'name': 'Delta', 'age': 30, 'city': 'New York'}\n"
     ]
    }
   ],
   "source": [
    "person = {\"name\": \"Delta\", \"age\": 30, \"city\": \"New York\"}\n",
    "print(person)"
   ]
  },
  {
   "cell_type": "markdown",
   "id": "d2f6c01b-b6a3-4abd-879d-7d96158fc08f",
   "metadata": {},
   "source": [
    "### 12. Write a code to Add a New Key-Value Pair to a Dictionary ."
   ]
  },
  {
   "cell_type": "code",
   "execution_count": 12,
   "id": "37c04ab2-170e-47e1-a29a-654c41392edb",
   "metadata": {},
   "outputs": [
    {
     "name": "stdout",
     "output_type": "stream",
     "text": [
      "{'name': 'John', 'age': 25, 'country': 'USA'}\n"
     ]
    }
   ],
   "source": [
    "person = {\"name\": \"John\", \"age\": 25}\n",
    "person[\"country\"] = \"USA\"\n",
    "print(person)"
   ]
  },
  {
   "cell_type": "markdown",
   "id": "a18ef843-a317-40c1-8fc9-1c441e0e6269",
   "metadata": {},
   "source": [
    "### 13. Write a code to Access the Value Associated with a Key in a Dictionary ."
   ]
  },
  {
   "cell_type": "code",
   "execution_count": 14,
   "id": "dece187b-c289-4da2-bac9-e50643749c44",
   "metadata": {},
   "outputs": [
    {
     "name": "stdout",
     "output_type": "stream",
     "text": [
      "Delta\n"
     ]
    }
   ],
   "source": [
    "person = {\"name\": \"Delta\", \"age\": 30}\n",
    "name = person[\"name\"]\n",
    "print(name)"
   ]
  },
  {
   "cell_type": "markdown",
   "id": "47602ec1-6cda-4c5f-a041-4e48526d0fe3",
   "metadata": {},
   "source": [
    "### 14. Write a code to Remove a Key from a Dictionary ."
   ]
  },
  {
   "cell_type": "code",
   "execution_count": 15,
   "id": "97c5923e-966e-4d43-9b4d-bbfcb1e95015",
   "metadata": {},
   "outputs": [
    {
     "name": "stdout",
     "output_type": "stream",
     "text": [
      "{'name': 'Bob', 'city': 'New York'}\n"
     ]
    }
   ],
   "source": [
    "person = {\"name\": \"Bob\", \"age\": 22, \"city\": \"New York\"}\n",
    "del person[\"age\"]\n",
    "print(person)"
   ]
  },
  {
   "cell_type": "markdown",
   "id": "ce04594f-814c-4abf-8983-1a049b65a70f",
   "metadata": {},
   "source": [
    "### 15. Write a code to Check if a Key Exists in a Dictionary ."
   ]
  },
  {
   "cell_type": "code",
   "execution_count": 16,
   "id": "08408da7-0ff5-428f-aa42-04d2047c2b81",
   "metadata": {},
   "outputs": [
    {
     "name": "stdout",
     "output_type": "stream",
     "text": [
      "Yes, 'city' is a key in the dictionary.\n"
     ]
    }
   ],
   "source": [
    "person = {\"name\": \"Reetak\", \"city\": \"Paris\"}\n",
    "if \"city\" in person:\n",
    "    print(\"Yes, 'city' is a key in the dictionary.\")\n",
    "else:\n",
    "    print(\"No, 'city' is not a key in the dictionary.\")"
   ]
  },
  {
   "cell_type": "markdown",
   "id": "022c7d0d-9e6c-4045-82d4-e7ed7808cab9",
   "metadata": {},
   "source": [
    "### 16. Write a code to Create a List, a Tuple, and a Dictionary, and Print Them ."
   ]
  },
  {
   "cell_type": "code",
   "execution_count": 17,
   "id": "d13949fa-9d0c-4bed-9838-c352bddc8acc",
   "metadata": {},
   "outputs": [
    {
     "name": "stdout",
     "output_type": "stream",
     "text": [
      "[1, 2, 3]\n",
      "(4, 5, 6)\n",
      "{'a': 1, 'b': 2}\n"
     ]
    }
   ],
   "source": [
    "my_list = [1, 2, 3]\n",
    "my_tuple = (4, 5, 6)\n",
    "my_dict = {\"a\": 1, \"b\": 2}\n",
    "print(my_list)\n",
    "print(my_tuple)\n",
    "print(my_dict)"
   ]
  },
  {
   "cell_type": "markdown",
   "id": "d1879d00-3460-4198-a781-eb4e717c7e7a",
   "metadata": {},
   "source": [
    "### 17. Write a code to Create a List of 5 Random Numbers, Sort It, and Print the Result ."
   ]
  },
  {
   "cell_type": "code",
   "execution_count": 18,
   "id": "bd2a7040-718b-4a99-abd9-ca85a9ab6f00",
   "metadata": {},
   "outputs": [
    {
     "name": "stdout",
     "output_type": "stream",
     "text": [
      "[11, 36, 37, 44, 46]\n"
     ]
    }
   ],
   "source": [
    "import random\n",
    "numbers = random.sample(range(1, 100), 5)\n",
    "numbers.sort()\n",
    "print(numbers)"
   ]
  },
  {
   "cell_type": "markdown",
   "id": "e6b5f892-da9e-43e3-bcbb-a700b8887ecf",
   "metadata": {},
   "source": [
    "### 18. Write a code to Create a List with Strings and Print the Element at the Third Index ."
   ]
  },
  {
   "cell_type": "code",
   "execution_count": 19,
   "id": "a63f17d7-54c0-4b84-b409-ebc5ab978e28",
   "metadata": {},
   "outputs": [
    {
     "name": "stdout",
     "output_type": "stream",
     "text": [
      "cherry\n"
     ]
    }
   ],
   "source": [
    "fruits = [\"apple\", \"banana\", \"cherry\", \"date\", \"elderberry\"]\n",
    "print(fruits[2])"
   ]
  },
  {
   "cell_type": "markdown",
   "id": "49c4bc0b-4a01-49e8-aa27-cf5428295fe8",
   "metadata": {},
   "source": [
    "### 19. Write a code to combine Two Dictionaries into One and Print the Result ."
   ]
  },
  {
   "cell_type": "code",
   "execution_count": 21,
   "id": "54a9f9be-746e-4631-97fb-e7dec039e8f1",
   "metadata": {},
   "outputs": [
    {
     "name": "stdout",
     "output_type": "stream",
     "text": [
      "{'a': 1, 'b': 2, 'c': 3, 'd': 4}\n"
     ]
    }
   ],
   "source": [
    "dict1 = {\"a\": 1, \"b\": 2}\n",
    "dict2 = {\"c\": 3, \"d\": 4}\n",
    "combined_dict = {**dict1, **dict2}\n",
    "print(combined_dict)"
   ]
  },
  {
   "cell_type": "markdown",
   "id": "07c1c472-430c-4873-8f0d-7f56f6f9ad97",
   "metadata": {},
   "source": [
    "### 20. Write a code to Convert a List of Strings into a Set ."
   ]
  },
  {
   "cell_type": "code",
   "execution_count": 1,
   "id": "ea524157-a5bc-40b6-b2e1-66343c8a6fd7",
   "metadata": {},
   "outputs": [
    {
     "name": "stdout",
     "output_type": "stream",
     "text": [
      "{'banana', 'apple', 'cherry'}\n"
     ]
    }
   ],
   "source": [
    "fruits = [\"apple\", \"banana\", \"cherry\", \"apple\"]\n",
    "fruit_set = set(fruits)\n",
    "print(fruit_set)"
   ]
  }
 ],
 "metadata": {
  "kernelspec": {
   "display_name": "Python 3 (ipykernel)",
   "language": "python",
   "name": "python3"
  },
  "language_info": {
   "codemirror_mode": {
    "name": "ipython",
    "version": 3
   },
   "file_extension": ".py",
   "mimetype": "text/x-python",
   "name": "python",
   "nbconvert_exporter": "python",
   "pygments_lexer": "ipython3",
   "version": "3.13.5"
  }
 },
 "nbformat": 4,
 "nbformat_minor": 5
}
