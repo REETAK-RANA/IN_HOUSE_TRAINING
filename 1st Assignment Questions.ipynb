{
 "cells": [
  {
   "cell_type": "markdown",
   "id": "b5610a42-3d92-4c53-bb85-1b591890ce7a",
   "metadata": {},
   "source": [
    "# Data types and Structures Questions\n",
    "\n",
    "\n",
    "## Question:- 1. What are data structures, and why are they important?\n",
    "### Ans:- Data structures are ways to store and organize data for efficient access and modification. They help optimize performance in algorithms and programs.\n",
    "\n",
    "\n",
    "## Question:- 2. Explain the difference between mutable and immutable data types with examples.\n",
    "### Ans:- Mutable types (e.g., lists, dicts) can be changed after creation. Immutable types (e.g., tuples, strings) cannot be modified once set.\n",
    "\n",
    "\n",
    "## Question:- 3. What are the main differences between lists and tuples in Python?\n",
    "### Ans:- Lists are mutable and slower, while tuples are immutable and faster. Tuples are used for fixed data, lists for dynamic data.\n",
    "\n",
    "\n",
    "## Question:- 4. Describe how dictionaries store data.\n",
    "### Ans:- Dictionaries store data as key-value pairs using a hash table for fast lookup and insertion.\n",
    "\n",
    "\n",
    "## Question:- 5. Why might you use a set instead of a list in Python?\n",
    "### Ans:- Sets automatically remove duplicates and offer faster membership tests than lists.\n",
    "\n",
    "\n",
    "## Question:- 6. What is a string in Python, and how is it different from a list?\n",
    "### Ans:- string is a sequence of characters (immutable), while a list can hold any data types and is mutable.\n",
    "\n",
    "\n",
    "## Question:- 7. How do tuples ensure data integrity in Python?\n",
    "### Ans:- Tuples are immutable, so their values can't be changed after creation, ensuring data remains constant.\n",
    "\n",
    "\n",
    "## Question:- 8. What is a hash table, and how does it relate to dictionaries in Python?\n",
    "### Ans:- A hash table maps keys to values using a hash function. Python dictionaries use this internally.\n",
    "\n",
    "\n",
    "## Question:- 9. Can lists contain different data types in Python?\n",
    "### Ans:- Yes, lists in Python can store elements of different data types (e.g., int, str, float).\n",
    "\n",
    "\n",
    "## Question:- 10. Explain why strings are immutable in Python.\n",
    "### Ans:- Strings are immutable to ensure memory efficiency and to allow safe sharing across multiple parts of a program.\n",
    "\n",
    "\n",
    "## Question:- 11. What advantages do dictionaries offer over lists for certain tasks?\n",
    "### Ans:- Dictionaries provide fast key-based access, making them ideal for lookup tables and mappings.\n",
    "\n",
    "\n",
    "## Question:- 12. Describe a scenario where using a tuple would be preferable over a list.\n",
    "### Ans:- Tuples are preferable when you want fixed data, like coordinates or function returns, and to prevent modification.\n",
    "\n",
    "\n",
    "## Question:- 13. How do sets handle duplicate values in Python?\n",
    "### Ans:- Sets automatically eliminate duplicate entries, keeping only unique elements.\n",
    "\n",
    "\n",
    "## Question:- 14. How does the “in” keyword work differently for lists and dictionaries?14. How does the “in” keyword work differently for lists and dictionaries?\n",
    "### Ans:- In lists, it checks for values; in dictionaries, it checks for keys.\n",
    "\n",
    "\n",
    "## Question:- 15. Can you modify the elements of a tuple? Explain why or why not.\n",
    "### Ans:- No, tuples are immutable, so once created, their elements cannot be changed.\n",
    "\n",
    "\n",
    "## Question:- 16. What is a nested dictionary, and give an example of its use case?\n",
    "### Ans:- A nested dictionary is a dictionary within another dictionary,\n",
    "## e.g., \n",
    "### storing student info: {\"John\": {\"age\": 20, \"grade\": \"A\"}}."
   ]
  },
  {
   "cell_type": "markdown",
   "id": "0ba01cb9-0607-431d-8103-0980475c6aba",
   "metadata": {},
   "source": [
    "### Example:-"
   ]
  },
  {
   "cell_type": "code",
   "execution_count": null,
   "id": "c5bca139-79ba-46cc-aa18-63021348df26",
   "metadata": {},
   "outputs": [],
   "source": [
    "storing student info: {\"John\": {\"age\": 20, \"grade\": \"A\"}}."
   ]
  },
  {
   "cell_type": "markdown",
   "id": "8cc072be-db60-4bac-aa76-e6710fd4dd91",
   "metadata": {},
   "source": [
    "## Question:- 17. Describe the time complexity of accessing elements in a dictionary.\n",
    "### Ans:- Dictionary access is on average O(1) due to hashing.\n",
    "\n",
    "\n",
    "## Question:- 18. In what situations are lists preferred over dictionaries?\n",
    "### Ans:- Lists are preferred when order matters or when storing sequences of items without needing key-value pairs.\n",
    "\n",
    "\n",
    "## Question:- 19. Why are dictionaries considered unordered, and how does that affect data retrieval?\n",
    "### Ans:- Earlier versions of Python (<3.7) did not preserve insertion order in dictionaries, but now they do; still, keys are used for retrieval, not position.\n",
    "\n",
    "\n",
    "## Question:- 20. Explain the difference between a list and a dictionary in terms of data retrieval.\n",
    "### Ans:- Lists use index-based access, while dictionaries retrieve data using unique keys, which is generally faster."
   ]
  },
  {
   "cell_type": "code",
   "execution_count": null,
   "id": "8d7756e2-8c34-4a1f-8010-bc91a77ae646",
   "metadata": {},
   "outputs": [],
   "source": []
  }
 ],
 "metadata": {
  "kernelspec": {
   "display_name": "Python 3 (ipykernel)",
   "language": "python",
   "name": "python3"
  },
  "language_info": {
   "codemirror_mode": {
    "name": "ipython",
    "version": 3
   },
   "file_extension": ".py",
   "mimetype": "text/x-python",
   "name": "python",
   "nbconvert_exporter": "python",
   "pygments_lexer": "ipython3",
   "version": "3.13.5"
  }
 },
 "nbformat": 4,
 "nbformat_minor": 5
}
