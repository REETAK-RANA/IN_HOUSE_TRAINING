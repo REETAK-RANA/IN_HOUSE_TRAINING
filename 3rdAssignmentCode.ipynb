{
 "cells": [
  {
   "cell_type": "markdown",
   "id": "7f893ace-e8cf-46bf-8829-6872fe957218",
   "metadata": {},
   "source": [
    "### 1. Write a Python function that takes a list of numbers as input and returns the sum of all even numbers in the list.\n"
   ]
  },
  {
   "cell_type": "code",
   "execution_count": 17,
   "id": "72b973d0-df96-4591-af77-2a712e768dee",
   "metadata": {},
   "outputs": [
    {
     "name": "stdout",
     "output_type": "stream",
     "text": [
      "6\n"
     ]
    }
   ],
   "source": [
    "def main(number):\n",
    "    return sum(num for num in number if num % 2==0)\n",
    "number=[1,2,3,4,5]\n",
    "print(main(number))"
   ]
  },
  {
   "cell_type": "markdown",
   "id": "92c9fda0-3060-44c9-86c5-8dacf94f1c16",
   "metadata": {},
   "source": [
    "### 2. Create a Python function that accepts a string and returns the reverse of that string."
   ]
  },
  {
   "cell_type": "code",
   "execution_count": 1,
   "id": "2c9e2ad9-3841-4ec1-bf27-119fb1206b5a",
   "metadata": {},
   "outputs": [
    {
     "name": "stdout",
     "output_type": "stream",
     "text": [
      "anaR , aytidA\n"
     ]
    }
   ],
   "source": [
    "def main(Aadi):\n",
    " return Aadi[::-1]\n",
    "Aadi=\"Aditya , Rana\"\n",
    "print(main(Aadi))"
   ]
  },
  {
   "cell_type": "markdown",
   "id": "075cdffd-8bb5-449a-8ce6-6198dec97eee",
   "metadata": {},
   "source": [
    "### 3. Implement a Python function that takes a list of integers and returns a new list containing the squares of each number.\n"
   ]
  },
  {
   "cell_type": "code",
   "execution_count": 4,
   "id": "6526a853-a011-4988-acea-f2d57e9b52e8",
   "metadata": {},
   "outputs": [
    {
     "name": "stdout",
     "output_type": "stream",
     "text": [
      "[1, 4, 9, 16, 25]\n"
     ]
    }
   ],
   "source": [
    "def main(Aadi):\n",
    "    return [num ** 2 for num in Aadi]\n",
    "Aadi=[1,2,3,4,5]\n",
    "print(main(Aadi))"
   ]
  },
  {
   "cell_type": "markdown",
   "id": "7b5c43b8-2111-43d8-9423-27d7398cbc70",
   "metadata": {},
   "source": [
    "###  4. Write a Python function that checks if a given number is prime or not from 1 to 200.\n"
   ]
  },
  {
   "cell_type": "code",
   "execution_count": null,
   "id": "1983f00f-2d69-4e28-b922-532e5d6fe9bb",
   "metadata": {},
   "outputs": [],
   "source": [
    "def main(Aditya):\n",
    "    if Aditya < 2:\n",
    "        return false\n",
    "    for i in range(2,int(Aditya** 0.5 ) +1):\n",
    "         if Aditya % i ==0:\n",
    "             return false\n",
    "    return true \n",
    "n=int(input(\"enter a number\"))\n",
    "print(main(Aditya))"
   ]
  },
  {
   "cell_type": "markdown",
   "id": "39b01ad5-c0bc-479f-8ea7-e066f2567b68",
   "metadata": {},
   "source": [
    "### 5. Create an iterator class in Python that generates the Fibonacci sequence up to a specified number of terms."
   ]
  },
  {
   "cell_type": "code",
   "execution_count": 41,
   "id": "33513381-eb54-418b-911b-6bf8e096df07",
   "metadata": {},
   "outputs": [
    {
     "name": "stdin",
     "output_type": "stream",
     "text": [
      "How many terms?  5\n"
     ]
    },
    {
     "name": "stdout",
     "output_type": "stream",
     "text": [
      "0\n",
      "1\n",
      "1\n",
      "2\n",
      "3\n"
     ]
    }
   ],
   "source": [
    "a = 0\n",
    "b = 1\n",
    "n = int(input(\"How many terms? \"))\n",
    "\n",
    "for i in range(n):\n",
    "    print(a)\n",
    "    a, b = b, a + b\n"
   ]
  },
  {
   "attachments": {},
   "cell_type": "markdown",
   "id": "d3ee37a0-d9a0-4a75-9f84-b7ac9b8394eb",
   "metadata": {},
   "source": [
    "### 6. Write a generator function in Python that yields the powers of 2 up to a given exponent."
   ]
  },
  {
   "cell_type": "code",
   "execution_count": 43,
   "id": "f90b8d31-60a9-4d57-8487-81b0127f417c",
   "metadata": {},
   "outputs": [
    {
     "name": "stdout",
     "output_type": "stream",
     "text": [
      "2\n",
      "2\n",
      "2\n",
      "2\n",
      "2\n",
      "2\n"
     ]
    }
   ],
   "source": [
    "def main(n):\n",
    "    for i in range(n+1):\n",
    "        yield 2**1\n",
    "for power in main(5):\n",
    "    print(power)"
   ]
  },
  {
   "cell_type": "markdown",
   "id": "eccca239-d447-456d-8ac6-53800fab2d8d",
   "metadata": {},
   "source": [
    "### 7. Implement a generator function that reads a file line by line and yields each line as a string."
   ]
  },
  {
   "cell_type": "code",
   "execution_count": 4,
   "id": "ca518446-344b-4d51-9806-ae01089f89ae",
   "metadata": {},
   "outputs": [],
   "source": [
    "def main(Aadi):\n",
    "    with open(Aadi, 'r') as file:\n",
    "        for line in file:\n",
    "            yield line.strip()\n",
    "filename = ' example.txt'\n",
    "for line in main(Aadi):\n",
    "    print(line)"
   ]
  },
  {
   "cell_type": "markdown",
   "id": "ecfccc06-1203-49f9-9221-7c220313408a",
   "metadata": {},
   "source": [
    "###  8. Use a lambda function in Python to sort a list of tuples based on the second element of each tuple."
   ]
  },
  {
   "cell_type": "code",
   "execution_count": 47,
   "id": "a1510bb8-dbc6-4822-9235-0d2e74fc8221",
   "metadata": {},
   "outputs": [
    {
     "name": "stdout",
     "output_type": "stream",
     "text": [
      "[(1, 2), (3, 4)]\n"
     ]
    }
   ],
   "source": [
    "x=[(1,2),(3,4)]\n",
    "x.sort(key=lambda x: x[1])\n",
    "print(x)"
   ]
  },
  {
   "cell_type": "markdown",
   "id": "d569a71c-26d2-497f-985a-09e5df9c5a92",
   "metadata": {},
   "source": [
    "### 9. Write a Python program that uses map() to convert a list of temperatures from Celsius to Fahrenheit.\n"
   ]
  },
  {
   "cell_type": "code",
   "execution_count": 51,
   "id": "32c33945-ad11-41fa-9efb-e666c6f156c8",
   "metadata": {},
   "outputs": [
    {
     "name": "stdout",
     "output_type": "stream",
     "text": [
      "celsius [0, 20, 30, 37]\n",
      "fahrenheit [32.0, 68.0, 86.0, 98.6]\n"
     ]
    }
   ],
   "source": [
    "celsius=[0,20,30,37]\n",
    "fahrenheit=list(map(lambda x:(x*9/5)+ 32 ,celsius))\n",
    "print(\"celsius\",celsius)\n",
    "print(\"fahrenheit\",fahrenheit)"
   ]
  },
  {
   "cell_type": "markdown",
   "id": "db5a4fb4-a7fe-4544-b5f0-a6a99d2ee693",
   "metadata": {},
   "source": [
    "### 10. Create a Python program that uses 'filter()` to remove all the vowels from a given string."
   ]
  },
  {
   "cell_type": "code",
   "execution_count": 55,
   "id": "ba820f63-6d6c-4db4-8f3c-2bfa267762d2",
   "metadata": {},
   "outputs": [
    {
     "name": "stdin",
     "output_type": "stream",
     "text": [
      "enter any alphabet hello\n"
     ]
    },
    {
     "name": "stdout",
     "output_type": "stream",
     "text": [
      "hll\n"
     ]
    }
   ],
   "source": [
    "def main(aadi):\n",
    "    vowels = 'aeiouAEIOU'\n",
    "    return ''.join(filter(lambda x:x not in vowels , s))\n",
    "s=str(input('enter any alphabet'))\n",
    "print(main(aadi))"
   ]
  },
  {
   "cell_type": "code",
   "execution_count": null,
   "id": "effb30ab-0a1c-489a-b5b3-63452b7cfd2c",
   "metadata": {},
   "outputs": [],
   "source": []
  }
 ],
 "metadata": {
  "kernelspec": {
   "display_name": "Python 3 (ipykernel)",
   "language": "python",
   "name": "python3"
  },
  "language_info": {
   "codemirror_mode": {
    "name": "ipython",
    "version": 3
   },
   "file_extension": ".py",
   "mimetype": "text/x-python",
   "name": "python",
   "nbconvert_exporter": "python",
   "pygments_lexer": "ipython3",
   "version": "3.13.5"
  }
 },
 "nbformat": 4,
 "nbformat_minor": 5
}
