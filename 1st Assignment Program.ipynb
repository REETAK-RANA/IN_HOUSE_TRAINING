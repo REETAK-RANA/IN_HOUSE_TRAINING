{
 "cells": [
  {
   "cell_type": "code",
   "execution_count": 2,
   "id": "b48a0bab-dc13-4717-a949-bf4f969acada",
   "metadata": {},
   "outputs": [
    {
     "name": "stdout",
     "output_type": "stream",
     "text": [
      "<class 'str'>\n",
      "Reetak Rana\n"
     ]
    }
   ],
   "source": [
    "Name=\"Reetak Rana\"\n",
    "print(type(Name))\n",
    "print(Name)"
   ]
  },
  {
   "cell_type": "code",
   "execution_count": 30,
   "id": "cbed2d76-612c-44a5-81b0-8e269caa5e63",
   "metadata": {},
   "outputs": [
    {
     "name": "stdout",
     "output_type": "stream",
     "text": [
      "11\n"
     ]
    }
   ],
   "source": [
    "A=\"Hello World\"\n",
    "print(len(A))"
   ]
  },
  {
   "cell_type": "code",
   "execution_count": 5,
   "id": "08c4008a-3e15-471b-a6ce-0e6d1f4d3efa",
   "metadata": {},
   "outputs": [
    {
     "name": "stdout",
     "output_type": "stream",
     "text": [
      "Pyt\n"
     ]
    }
   ],
   "source": [
    "my_string = \"Python programming\"\n",
    "sliced_string = my_string[:3]\n",
    "print(sliced_string)"
   ]
  },
  {
   "cell_type": "code",
   "execution_count": 11,
   "id": "04b7a7d8-452f-4505-bd2f-6cfeb848b382",
   "metadata": {},
   "outputs": [
    {
     "name": "stdout",
     "output_type": "stream",
     "text": [
      "HELLO WORLD\n"
     ]
    }
   ],
   "source": [
    "my_string=\"hello world\"\n",
    "upercase_string=my_string.upper()\n",
    "print(upercase_string)"
   ]
  },
  {
   "cell_type": "code",
   "execution_count": 15,
   "id": "f5b404a2-4bb3-4175-ba73-5f59a556ccef",
   "metadata": {},
   "outputs": [
    {
     "name": "stdout",
     "output_type": "stream",
     "text": [
      "I like Oranges\n"
     ]
    }
   ],
   "source": [
    "my_string=\"I like Apples\"\n",
    "modified_string=my_string.replace(\"Apple\",\"Orange\")\n",
    "print(modified_string)"
   ]
  },
  {
   "cell_type": "code",
   "execution_count": 17,
   "id": "8fbdb9f5-0b22-409a-b313-f003390046b1",
   "metadata": {},
   "outputs": [
    {
     "name": "stdout",
     "output_type": "stream",
     "text": [
      "[1, 2, 3, 4, 5]\n"
     ]
    }
   ],
   "source": [
    "Numbers=[1,2,3,4,5]\n",
    "print(Numbers)"
   ]
  },
  {
   "cell_type": "code",
   "execution_count": 18,
   "id": "e0c0eb4d-0b3d-4559-9870-7ac9b4656a9b",
   "metadata": {},
   "outputs": [
    {
     "name": "stdout",
     "output_type": "stream",
     "text": [
      "[1, 2, 3, 4, 10]\n"
     ]
    }
   ],
   "source": [
    "a=[1,2,3,4]\n",
    "a.append(10)\n",
    "print(a)"
   ]
  },
  {
   "cell_type": "code",
   "execution_count": 20,
   "id": "df1fb344-2a8a-490c-a2c0-3a5575ad6c75",
   "metadata": {
    "scrolled": true
   },
   "outputs": [
    {
     "name": "stdout",
     "output_type": "stream",
     "text": [
      "['1', '2', '4', '5']\n"
     ]
    }
   ],
   "source": [
    "Numbers=['1','2','3','4','5']\n",
    "Numbers.remove('3')\n",
    "print(Numbers)"
   ]
  },
  {
   "cell_type": "code",
   "execution_count": 27,
   "id": "5fb07962-9a2d-4fbd-9901-d3150f26b4a3",
   "metadata": {},
   "outputs": [
    {
     "name": "stdout",
     "output_type": "stream",
     "text": [
      "The second element is: b\n"
     ]
    }
   ],
   "source": [
    "my_list=['a','b','c','d']\n",
    "second_element = my_list[1]\n",
    "print(\"The second element is:\",second_element)"
   ]
  },
  {
   "cell_type": "code",
   "execution_count": 28,
   "id": "b0f7dc6c-0d7b-48fc-9fa5-e0d383e4076f",
   "metadata": {},
   "outputs": [
    {
     "name": "stdout",
     "output_type": "stream",
     "text": [
      "Reverse of the list: [40, 30, 20, 10]\n"
     ]
    }
   ],
   "source": [
    "my_list=[10,20,30,40]\n",
    "reverse_list=my_list[::-1]\n",
    "print(\"Reverse of the list:\",reverse_list)"
   ]
  }
 ],
 "metadata": {
  "kernelspec": {
   "display_name": "Python 3 (ipykernel)",
   "language": "python",
   "name": "python3"
  },
  "language_info": {
   "codemirror_mode": {
    "name": "ipython",
    "version": 3
   },
   "file_extension": ".py",
   "mimetype": "text/x-python",
   "name": "python",
   "nbconvert_exporter": "python",
   "pygments_lexer": "ipython3",
   "version": "3.13.5"
  }
 },
 "nbformat": 4,
 "nbformat_minor": 5
}
